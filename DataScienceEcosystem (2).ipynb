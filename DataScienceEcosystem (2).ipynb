{
 "cells": [
  {
   "cell_type": "markdown",
   "id": "e8545a6f-e2bc-4f92-8c77-c0dc3808e984",
   "metadata": {},
   "source": [
    "# Data Science Tools and Ecosystem"
   ]
  },
  {
   "cell_type": "markdown",
   "id": "9fb2e0de-305e-47e6-9583-ff3d7bff17c0",
   "metadata": {},
   "source": [
    "In this notebook, Data Science Tools and Ecosystems are summarized"
   ]
  },
  {
   "cell_type": "markdown",
   "id": "d808be32-42dc-4ec2-9664-200bab84ecda",
   "metadata": {},
   "source": [
    "#### Objectives:\n",
    "* list of popular langauges for Data Science\n",
    "* list of Data Science libraries\n",
    "* list of Data Science tools\n",
    "* list of arithemtic operation in python"
   ]
  },
  {
   "cell_type": "markdown",
   "id": "ddfc45b9-03d9-45db-96a0-57e9b16a7d38",
   "metadata": {},
   "source": [
    "Some of the popular languages that Data Scientist use are:\n",
    "1. python\n",
    "2. julia\n",
    "3. R\n",
    "4. javascript"
   ]
  },
  {
   "cell_type": "markdown",
   "id": "e76456e3-668b-447a-aa1a-61cb058133cb",
   "metadata": {},
   "source": [
    "Some of the comonly used libraries by Data Scientists include:\n",
    "1. Pandas\n",
    "2. Matplotlib\n",
    "3. NumPy\n"
   ]
  },
  {
   "cell_type": "markdown",
   "id": "deb1a1c0-2464-4b69-afcb-637ffd0d637c",
   "metadata": {},
   "source": [
    "|Data Science Tools|\n",
    "|------------------|\n",
    "|jupyter notebook|\n",
    "|visual studio|\n",
    "|spyder|"
   ]
  },
  {
   "cell_type": "markdown",
   "id": "79221331-bb3f-4e76-98f6-18b64a6f3fbe",
   "metadata": {},
   "source": [
    "### Below are a few exmples of evaluating arithmetic expression in python"
   ]
  },
  {
   "cell_type": "markdown",
   "id": "234d935e-af23-4fd4-b8ed-8c8f8be1a1dd",
   "metadata": {},
   "source": [
    "This is a simple arithmetic expression to multiply then add integers"
   ]
  },
  {
   "cell_type": "code",
   "execution_count": 7,
   "id": "81d501e3-5bc0-4892-80f0-ec2e5e0742b2",
   "metadata": {
    "tags": []
   },
   "outputs": [
    {
     "data": {
      "text/plain": [
       "17"
      ]
     },
     "execution_count": 7,
     "metadata": {},
     "output_type": "execute_result"
    }
   ],
   "source": [
    "(3*4)+5"
   ]
  },
  {
   "cell_type": "markdown",
   "id": "812238b6-359e-4053-8de0-5382d0faaba3",
   "metadata": {},
   "source": [
    "This will convert 200 minute to hours by dividing by 60"
   ]
  },
  {
   "cell_type": "code",
   "execution_count": 8,
   "id": "6de25a40-05ba-4ed0-b0dc-0eb07fdd0412",
   "metadata": {
    "tags": []
   },
   "outputs": [
    {
     "data": {
      "text/plain": [
       "3.3333333333333335"
      ]
     },
     "execution_count": 8,
     "metadata": {},
     "output_type": "execute_result"
    }
   ],
   "source": [
    "200/60"
   ]
  },
  {
   "cell_type": "markdown",
   "id": "a3faab52-7b06-4e0a-8b34-631e48a1a03e",
   "metadata": {
    "tags": []
   },
   "source": [
    "## Author\n",
    "AKASH S"
   ]
  },
  {
   "cell_type": "code",
   "execution_count": null,
   "id": "5350427c-3f43-493b-a591-461c767428ed",
   "metadata": {},
   "outputs": [],
   "source": []
  }
 ],
 "metadata": {
  "kernelspec": {
   "display_name": "Python",
   "language": "python",
   "name": "conda-env-python-py"
  },
  "language_info": {
   "codemirror_mode": {
    "name": "ipython",
    "version": 3
   },
   "file_extension": ".py",
   "mimetype": "text/x-python",
   "name": "python",
   "nbconvert_exporter": "python",
   "pygments_lexer": "ipython3",
   "version": "3.7.12"
  }
 },
 "nbformat": 4,
 "nbformat_minor": 5
}
